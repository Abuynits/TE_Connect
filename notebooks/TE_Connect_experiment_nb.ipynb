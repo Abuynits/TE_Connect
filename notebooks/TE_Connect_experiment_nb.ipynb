{
  "nbformat": 4,
  "nbformat_minor": 0,
  "metadata": {
    "colab": {
      "provenance": []
    },
    "kernelspec": {
      "name": "python3",
      "display_name": "Python 3"
    },
    "language_info": {
      "name": "python"
    },
    "gpuClass": "standard"
  },
  "cells": [
    {
      "cell_type": "markdown",
      "source": [
        "# TE_Connect Sales Forcasting\n",
        "\n",
        "Author: Alexiy Buynitsky\n",
        "\n",
        "### Configuration\n",
        "\n",
        "Run Through the following commands, and then alter the:\n",
        "- `src/data_constants.py`\n",
        "  -  Control data inputs,outputs, prediction, foracsting...\n",
        "- `src/model_constants.py`\n",
        "  - Control model architecture, lstm cells, hidden layers, dropout...\n",
        "- `src/filepath_constants.py`\n",
        "  - Control file system, verbose mode...\n",
        "\n",
        "You then only have to run the last command and use the [MLflow UI](https://dagshub.com/Abuynits/TE_Connect.mlflow) to track your experiments!\n",
        "\n"
      ],
      "metadata": {
        "id": "4E5MrKGAuh_e"
      }
    },
    {
      "cell_type": "markdown",
      "source": [
        "## Imports"
      ],
      "metadata": {
        "id": "WTFH7T6av-eR"
      }
    },
    {
      "cell_type": "code",
      "source": [
        "!pip3 install -r requirements.txt &> /dev/null\n",
        "!pip3 install pytorch_lightning &> /dev/null\n",
        "# install all libraries\n",
        "!pip install dvc &> /dev/null\n",
        "!pip install dagshub &> /dev/null\n",
        "!pip3 install mlflow &> /dev/null"
      ],
      "metadata": {
        "id": "xeyzQVCqo-Be"
      },
      "execution_count": null,
      "outputs": []
    },
    {
      "cell_type": "code",
      "execution_count": null,
      "metadata": {
        "id": "igD1KMfNmD9b"
      },
      "outputs": [],
      "source": [
        "import requests\n",
        "import getpass\n",
        "import datetime"
      ]
    },
    {
      "cell_type": "code",
      "source": [
        "#@title Set Environment Variables\n",
        "\n",
        "#@markdown Enter the repository name for the project:\n",
        "REPO_NAME= \"TE_Connect\" #@param {type:\"string\"}\n",
        "\n",
        "#@markdown Enter the username of your DAGsHub account:\n",
        "USER_NAME = \"Abuynits\" #@param {type:\"string\"}\n",
        "\n",
        "#@markdown Enter the email for your DAGsHub account:\n",
        "EMAIL = \"abuynits@gmail.com\" #@param {type:\"string\"}\n",
        "\n",
        "#@markdown ---"
      ],
      "metadata": {
        "id": "Zz8pia1hmRTl"
      },
      "execution_count": null,
      "outputs": []
    },
    {
      "cell_type": "code",
      "source": [
        "# create a personal access token\n",
        "r = requests.post('https://dagshub.com/api/v1/user/tokens', \n",
        "                  json={\"name\": f\"colab-token-{datetime.datetime.now()}\"}, \n",
        "                  auth=(USER_NAME, getpass.getpass('DAGsHub password:')))\n",
        "r.raise_for_status()\n",
        "TOKEN=r.json()['sha1']"
      ],
      "metadata": {
        "id": "BjmO8-jqmS_t"
      },
      "execution_count": null,
      "outputs": []
    },
    {
      "cell_type": "markdown",
      "source": [
        "## Generating SSH Key for github"
      ],
      "metadata": {
        "id": "YTbsb_y7wBoC"
      }
    },
    {
      "cell_type": "code",
      "source": [
        "!ssh-keygen -t rsa -b 4096"
      ],
      "metadata": {
        "id": "DPf7E-lTmWfj"
      },
      "execution_count": null,
      "outputs": []
    },
    {
      "cell_type": "markdown",
      "source": [
        "hit enter for all to use default file location. \n",
        "\n",
        "**NOTE**: will be deleted at the end of the notebook session"
      ],
      "metadata": {
        "id": "A8lF8jxKwEWm"
      }
    },
    {
      "cell_type": "code",
      "source": [
        "!ssh-keyscan -t rsa github.com >> ~/.ssh/known_hosts"
      ],
      "metadata": {
        "id": "GoW-bLGlmhv2"
      },
      "execution_count": null,
      "outputs": []
    },
    {
      "cell_type": "markdown",
      "source": [
        "Print the ssh_id and add it to github keys. Will only be valid for this notebook session"
      ],
      "metadata": {
        "id": "d_lqAVq9wNyU"
      }
    },
    {
      "cell_type": "code",
      "source": [
        "!cat /root/.ssh/id_rsa.pub"
      ],
      "metadata": {
        "id": "IQtYBMZgnXv8"
      },
      "execution_count": null,
      "outputs": []
    },
    {
      "cell_type": "code",
      "source": [
        "!ssh -T git@github.com # test the ssh id  "
      ],
      "metadata": {
        "id": "lFZRBI17naoi"
      },
      "execution_count": null,
      "outputs": []
    },
    {
      "cell_type": "code",
      "source": [
        "# configure github usernames\n",
        "!git config --global user.email {REPO_NAME} \n",
        "!git config --global user.name {USER_NAME}"
      ],
      "metadata": {
        "id": "891nyLWGnsn0"
      },
      "execution_count": null,
      "outputs": []
    },
    {
      "cell_type": "code",
      "source": [
        "!git clone git@github.com:Abuynits/TE_Connect.git"
      ],
      "metadata": {
        "id": "E4OhvxDLn0oc"
      },
      "execution_count": null,
      "outputs": []
    },
    {
      "cell_type": "code",
      "source": [
        "%cd TE_Connect"
      ],
      "metadata": {
        "id": "z6UnbvARoTRB"
      },
      "execution_count": null,
      "outputs": []
    },
    {
      "cell_type": "markdown",
      "source": [
        "## Initialize DVC!"
      ],
      "metadata": {
        "id": "a_RGEKBDwYH2"
      }
    },
    {
      "cell_type": "code",
      "source": [
        "!dvc remote modify origin --local auth basic \n",
        "!dvc remote modify origin --local user {USER_NAME} \n",
        "!dvc remote modify origin --local password {TOKEN}"
      ],
      "metadata": {
        "id": "ryTLZ3wnoGqh"
      },
      "execution_count": null,
      "outputs": []
    },
    {
      "cell_type": "code",
      "source": [
        "!dvc pull --remote origin"
      ],
      "metadata": {
        "id": "2V_pj4SnoJw6"
      },
      "execution_count": null,
      "outputs": []
    },
    {
      "cell_type": "markdown",
      "source": [
        "#TESTING\n",
        "\n",
        "run the following cell after alterning any of the constant files. Track the progress live in the MLflow UI."
      ],
      "metadata": {
        "id": "u0csTn3Kwbfd"
      }
    },
    {
      "cell_type": "code",
      "source": [
        "!MLFLOW_TRACKING_URI=https://dagshub.com/Abuynits/TE_Connect.mlflow \\\n",
        "MLFLOW_TRACKING_USERNAME={USER_NAME} \\\n",
        "MLFLOW_TRACKING_PASSWORD={TOKEN}  \\\n",
        "dvc repro"
      ],
      "metadata": {
        "colab": {
          "base_uri": "https://localhost:8080/"
        },
        "id": "96jPswGyoP93",
        "outputId": "82140d0f-a92f-4eb6-cb2a-a4814f0951d6"
      },
      "execution_count": 6,
      "outputs": [
        {
          "output_type": "stream",
          "name": "stdout",
          "text": [
            "\u001b[31mERROR\u001b[39m: you are not inside of a DVC repository (checked up to mount point '/')\n",
            "\u001b[0m"
          ]
        }
      ]
    },
    {
      "cell_type": "code",
      "source": [],
      "metadata": {
        "id": "3eeB_qLjswc8"
      },
      "execution_count": null,
      "outputs": []
    }
  ]
}