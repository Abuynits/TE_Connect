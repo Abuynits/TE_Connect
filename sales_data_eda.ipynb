{
 "cells": [
  {
   "cell_type": "code",
   "execution_count": 44,
   "metadata": {
    "collapsed": true,
    "pycharm": {
     "name": "#%%\n"
    }
   },
   "outputs": [],
   "source": [
    "import pandas as pd\n",
    "from pandas import DataFrame\n",
    "df = pd.read_csv(\"te_ai_cup_sales_forecasting_data.csv\")"
   ]
  },
  {
   "cell_type": "code",
   "execution_count": 51,
   "outputs": [
    {
     "name": "stdout",
     "output_type": "stream",
     "text": [
      "num rows: 522698\n",
      "num cols: 10\n",
      "Unique Business Unit:\n",
      " ['Aerospace, Defense & Marine' 'Data and Devices' 'Industrial'\n",
      " 'Industrial Commercial Transportation' 'Appliances'\n",
      " 'Application Tooling Group' 'Energy' 'Channel - Industrial'\n",
      " 'Channel - Data and Devices' 'Channel - Appliances'] \n",
      "\n",
      "Unique Company Region:\n",
      " ['Americas' 'EMEA' 'Asia Pacific & ANZ'] \n",
      "\n",
      "Unique Fiscal Year:\n",
      " [2022 2021 2020 2017 2018 2015 2019 2016] \n",
      "\n"
     ]
    },
    {
     "data": {
      "text/plain": "   fiscal_year_historical  fiscal_quarter_historical  fiscal_month_historical  \\\n0                    2015                          1                        1   \n1                    2015                          1                        1   \n2                    2015                          1                        1   \n3                    2015                          1                        1   \n4                    2015                          1                        1   \n\n   fiscal_week_historical    business_unit_group_name  \\\n0                       1                      Energy   \n1                       1  Channel - Data and Devices   \n2                       1        Channel - Industrial   \n3                       1                  Industrial   \n4                       1            Data and Devices   \n\n  company_region_name_level_1 product_line_code         product_line_name  \\\n0                        EMEA               E77     LV/MV Surge Arresters   \n1          Asia Pacific & ANZ               053            Memory Sockets   \n2                        EMEA               202     PLASTI-GRIP Terminals   \n3                    Americas               ABP  Specific terminal blocks   \n4                        EMEA               AC5   Antennas, Custom Others   \n\n   sales_quantity  sales_amount  \n0         1641.00     126789.47  \n1        14417.92      17379.52  \n2       142820.40      19666.38  \n3        14528.00     -12089.77  \n4        34400.00      30357.47  ",
      "text/html": "<div>\n<style scoped>\n    .dataframe tbody tr th:only-of-type {\n        vertical-align: middle;\n    }\n\n    .dataframe tbody tr th {\n        vertical-align: top;\n    }\n\n    .dataframe thead th {\n        text-align: right;\n    }\n</style>\n<table border=\"1\" class=\"dataframe\">\n  <thead>\n    <tr style=\"text-align: right;\">\n      <th></th>\n      <th>fiscal_year_historical</th>\n      <th>fiscal_quarter_historical</th>\n      <th>fiscal_month_historical</th>\n      <th>fiscal_week_historical</th>\n      <th>business_unit_group_name</th>\n      <th>company_region_name_level_1</th>\n      <th>product_line_code</th>\n      <th>product_line_name</th>\n      <th>sales_quantity</th>\n      <th>sales_amount</th>\n    </tr>\n  </thead>\n  <tbody>\n    <tr>\n      <th>0</th>\n      <td>2015</td>\n      <td>1</td>\n      <td>1</td>\n      <td>1</td>\n      <td>Energy</td>\n      <td>EMEA</td>\n      <td>E77</td>\n      <td>LV/MV Surge Arresters</td>\n      <td>1641.00</td>\n      <td>126789.47</td>\n    </tr>\n    <tr>\n      <th>1</th>\n      <td>2015</td>\n      <td>1</td>\n      <td>1</td>\n      <td>1</td>\n      <td>Channel - Data and Devices</td>\n      <td>Asia Pacific &amp; ANZ</td>\n      <td>053</td>\n      <td>Memory Sockets</td>\n      <td>14417.92</td>\n      <td>17379.52</td>\n    </tr>\n    <tr>\n      <th>2</th>\n      <td>2015</td>\n      <td>1</td>\n      <td>1</td>\n      <td>1</td>\n      <td>Channel - Industrial</td>\n      <td>EMEA</td>\n      <td>202</td>\n      <td>PLASTI-GRIP Terminals</td>\n      <td>142820.40</td>\n      <td>19666.38</td>\n    </tr>\n    <tr>\n      <th>3</th>\n      <td>2015</td>\n      <td>1</td>\n      <td>1</td>\n      <td>1</td>\n      <td>Industrial</td>\n      <td>Americas</td>\n      <td>ABP</td>\n      <td>Specific terminal blocks</td>\n      <td>14528.00</td>\n      <td>-12089.77</td>\n    </tr>\n    <tr>\n      <th>4</th>\n      <td>2015</td>\n      <td>1</td>\n      <td>1</td>\n      <td>1</td>\n      <td>Data and Devices</td>\n      <td>EMEA</td>\n      <td>AC5</td>\n      <td>Antennas, Custom Others</td>\n      <td>34400.00</td>\n      <td>30357.47</td>\n    </tr>\n  </tbody>\n</table>\n</div>"
     },
     "metadata": {},
     "output_type": "display_data"
    }
   ],
   "source": [
    "print(\"num rows:\",len(df))\n",
    "print(\"num cols:\",df.shape[1])\n",
    "u_business_unit=df[\"business_unit_group_name\"].unique()\n",
    "print(\"Unique Business Unit:\\n\",u_business_unit,\"\\n\")\n",
    "u_company_region=df[\"company_region_name_level_1\"].unique()\n",
    "print(\"Unique Company Region:\\n\",u_company_region,\"\\n\")\n",
    "u_years=df[\"fiscal_year_historical\"].unique()\n",
    "print(\"Unique Fiscal Year:\\n\",u_years,\"\\n\")\n",
    "df.sort_values(by=['fiscal_year_historical']+['fiscal_week_historical'],inplace=True,ignore_index=True)\n",
    "display(df.head())"
   ],
   "metadata": {
    "collapsed": false,
    "pycharm": {
     "name": "#%%\n"
    }
   }
  },
  {
   "cell_type": "code",
   "execution_count": 46,
   "outputs": [],
   "source": [],
   "metadata": {
    "collapsed": false,
    "pycharm": {
     "name": "#%%\n"
    }
   }
  },
  {
   "cell_type": "code",
   "execution_count": 50,
   "outputs": [
    {
     "data": {
      "text/plain": "        fiscal_year_historical  fiscal_quarter_historical  \\\n453                       2015                          1   \n1354                      2015                          1   \n1597                      2015                          1   \n2779                      2015                          1   \n3179                      2015                          1   \n...                        ...                        ...   \n521657                    2022                          4   \n521829                    2022                          4   \n522563                    2022                          4   \n522568                    2022                          4   \n522573                    2022                          4   \n\n        fiscal_month_historical  fiscal_week_historical  \\\n453                           1                       1   \n1354                          1                       1   \n1597                          1                       1   \n2779                          1                       1   \n3179                          1                       1   \n...                         ...                     ...   \n521657                       12                      53   \n521829                       12                      53   \n522563                       12                      53   \n522568                       12                      53   \n522573                       12                      53   \n\n          business_unit_group_name company_region_name_level_1  \\\n453                         Energy                        EMEA   \n1354    Channel - Data and Devices          Asia Pacific & ANZ   \n1597          Channel - Industrial                        EMEA   \n2779                    Industrial                    Americas   \n3179              Data and Devices                        EMEA   \n...                            ...                         ...   \n521657                  Industrial          Asia Pacific & ANZ   \n521829  Channel - Data and Devices          Asia Pacific & ANZ   \n522563        Channel - Industrial                        EMEA   \n522568  Channel - Data and Devices                        EMEA   \n522573        Channel - Industrial                        EMEA   \n\n       product_line_code                    product_line_name  sales_quantity  \\\n453                  E77                LV/MV Surge Arresters         1641.00   \n1354                 053                       Memory Sockets        14417.92   \n1597                 202                PLASTI-GRIP Terminals       142820.40   \n2779                 ABP             Specific terminal blocks        14528.00   \n3179                 AC5              Antennas, Custom Others        34400.00   \n...                  ...                                  ...             ...   \n521657               Z15                  Industrial Mini I/O       105592.00   \n521829               A92           High Performance Mod Jacks        25483.50   \n522563               097           PIDG Terminals and Splices       198417.34   \n522568               252  AMPLIMITE RFI/EMI Shielded Hardware        11733.50   \n522573               978                      3G COM Relay P2       100172.82   \n\n        sales_amount  \n453        126789.47  \n1354        17379.52  \n1597        19666.38  \n2779       -12089.77  \n3179        30357.47  \n...              ...  \n521657     167214.03  \n521829      59512.89  \n522563      54999.72  \n522568      30678.16  \n522573      78599.99  \n\n[522698 rows x 10 columns]",
      "text/html": "<div>\n<style scoped>\n    .dataframe tbody tr th:only-of-type {\n        vertical-align: middle;\n    }\n\n    .dataframe tbody tr th {\n        vertical-align: top;\n    }\n\n    .dataframe thead th {\n        text-align: right;\n    }\n</style>\n<table border=\"1\" class=\"dataframe\">\n  <thead>\n    <tr style=\"text-align: right;\">\n      <th></th>\n      <th>fiscal_year_historical</th>\n      <th>fiscal_quarter_historical</th>\n      <th>fiscal_month_historical</th>\n      <th>fiscal_week_historical</th>\n      <th>business_unit_group_name</th>\n      <th>company_region_name_level_1</th>\n      <th>product_line_code</th>\n      <th>product_line_name</th>\n      <th>sales_quantity</th>\n      <th>sales_amount</th>\n    </tr>\n  </thead>\n  <tbody>\n    <tr>\n      <th>453</th>\n      <td>2015</td>\n      <td>1</td>\n      <td>1</td>\n      <td>1</td>\n      <td>Energy</td>\n      <td>EMEA</td>\n      <td>E77</td>\n      <td>LV/MV Surge Arresters</td>\n      <td>1641.00</td>\n      <td>126789.47</td>\n    </tr>\n    <tr>\n      <th>1354</th>\n      <td>2015</td>\n      <td>1</td>\n      <td>1</td>\n      <td>1</td>\n      <td>Channel - Data and Devices</td>\n      <td>Asia Pacific &amp; ANZ</td>\n      <td>053</td>\n      <td>Memory Sockets</td>\n      <td>14417.92</td>\n      <td>17379.52</td>\n    </tr>\n    <tr>\n      <th>1597</th>\n      <td>2015</td>\n      <td>1</td>\n      <td>1</td>\n      <td>1</td>\n      <td>Channel - Industrial</td>\n      <td>EMEA</td>\n      <td>202</td>\n      <td>PLASTI-GRIP Terminals</td>\n      <td>142820.40</td>\n      <td>19666.38</td>\n    </tr>\n    <tr>\n      <th>2779</th>\n      <td>2015</td>\n      <td>1</td>\n      <td>1</td>\n      <td>1</td>\n      <td>Industrial</td>\n      <td>Americas</td>\n      <td>ABP</td>\n      <td>Specific terminal blocks</td>\n      <td>14528.00</td>\n      <td>-12089.77</td>\n    </tr>\n    <tr>\n      <th>3179</th>\n      <td>2015</td>\n      <td>1</td>\n      <td>1</td>\n      <td>1</td>\n      <td>Data and Devices</td>\n      <td>EMEA</td>\n      <td>AC5</td>\n      <td>Antennas, Custom Others</td>\n      <td>34400.00</td>\n      <td>30357.47</td>\n    </tr>\n    <tr>\n      <th>...</th>\n      <td>...</td>\n      <td>...</td>\n      <td>...</td>\n      <td>...</td>\n      <td>...</td>\n      <td>...</td>\n      <td>...</td>\n      <td>...</td>\n      <td>...</td>\n      <td>...</td>\n    </tr>\n    <tr>\n      <th>521657</th>\n      <td>2022</td>\n      <td>4</td>\n      <td>12</td>\n      <td>53</td>\n      <td>Industrial</td>\n      <td>Asia Pacific &amp; ANZ</td>\n      <td>Z15</td>\n      <td>Industrial Mini I/O</td>\n      <td>105592.00</td>\n      <td>167214.03</td>\n    </tr>\n    <tr>\n      <th>521829</th>\n      <td>2022</td>\n      <td>4</td>\n      <td>12</td>\n      <td>53</td>\n      <td>Channel - Data and Devices</td>\n      <td>Asia Pacific &amp; ANZ</td>\n      <td>A92</td>\n      <td>High Performance Mod Jacks</td>\n      <td>25483.50</td>\n      <td>59512.89</td>\n    </tr>\n    <tr>\n      <th>522563</th>\n      <td>2022</td>\n      <td>4</td>\n      <td>12</td>\n      <td>53</td>\n      <td>Channel - Industrial</td>\n      <td>EMEA</td>\n      <td>097</td>\n      <td>PIDG Terminals and Splices</td>\n      <td>198417.34</td>\n      <td>54999.72</td>\n    </tr>\n    <tr>\n      <th>522568</th>\n      <td>2022</td>\n      <td>4</td>\n      <td>12</td>\n      <td>53</td>\n      <td>Channel - Data and Devices</td>\n      <td>EMEA</td>\n      <td>252</td>\n      <td>AMPLIMITE RFI/EMI Shielded Hardware</td>\n      <td>11733.50</td>\n      <td>30678.16</td>\n    </tr>\n    <tr>\n      <th>522573</th>\n      <td>2022</td>\n      <td>4</td>\n      <td>12</td>\n      <td>53</td>\n      <td>Channel - Industrial</td>\n      <td>EMEA</td>\n      <td>978</td>\n      <td>3G COM Relay P2</td>\n      <td>100172.82</td>\n      <td>78599.99</td>\n    </tr>\n  </tbody>\n</table>\n<p>522698 rows × 10 columns</p>\n</div>"
     },
     "execution_count": 50,
     "metadata": {},
     "output_type": "execute_result"
    }
   ],
   "source": [],
   "metadata": {
    "collapsed": false,
    "pycharm": {
     "name": "#%%\n"
    }
   }
  },
  {
   "cell_type": "code",
   "execution_count": 8,
   "outputs": [
    {
     "data": {
      "text/plain": "array(['Americas', 'EMEA', 'Asia Pacific & ANZ'], dtype=object)"
     },
     "execution_count": 8,
     "metadata": {},
     "output_type": "execute_result"
    }
   ],
   "source": [],
   "metadata": {
    "collapsed": false,
    "pycharm": {
     "name": "#%%\n"
    }
   }
  },
  {
   "cell_type": "code",
   "execution_count": null,
   "outputs": [],
   "source": [],
   "metadata": {
    "collapsed": false,
    "pycharm": {
     "name": "#%%\n"
    }
   }
  }
 ],
 "metadata": {
  "kernelspec": {
   "display_name": "Python 3",
   "language": "python",
   "name": "python3"
  },
  "language_info": {
   "codemirror_mode": {
    "name": "ipython",
    "version": 2
   },
   "file_extension": ".py",
   "mimetype": "text/x-python",
   "name": "python",
   "nbconvert_exporter": "python",
   "pygments_lexer": "ipython2",
   "version": "2.7.6"
  }
 },
 "nbformat": 4,
 "nbformat_minor": 0
}